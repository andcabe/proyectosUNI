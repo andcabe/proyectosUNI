{
 "cells": [
  {
   "cell_type": "code",
   "execution_count": 1,
   "metadata": {},
   "outputs": [],
   "source": [
    "import numpy as np\n",
    "import pandas as pd\n",
    "from sklearn.tree import DecisionTreeClassifier\n",
    "from sklearn.tree import export_graphviz\n",
    "from sklearn.metrics import accuracy_score as score\n",
    "from sklearn.metrics import confusion_matrix\n",
    "import itertools"
   ]
  },
  {
   "cell_type": "code",
   "execution_count": 2,
   "metadata": {
    "scrolled": false
   },
   "outputs": [],
   "source": [
    "bits = 5\n",
    "\n",
    "columns = [\"A\", \"B\", \"C\", \"D\", \"E\", \"F\"]\n",
    "truth_table = np.asarray(list(itertools.product([False, True], repeat=bits)))\n",
    "\n",
    "result = []\n",
    "for i in truth_table:\n",
    "    r = ((i[0] & i[1]) or (~i[2] & ~i[3])) ^ i[4]\n",
    "    result.append(r)\n",
    "    \n",
    "result = np.asarray(result)"
   ]
  },
  {
   "cell_type": "code",
   "execution_count": 3,
   "metadata": {},
   "outputs": [],
   "source": [
    "X = truth_table\n",
    "Y = result"
   ]
  },
  {
   "cell_type": "code",
   "execution_count": 4,
   "metadata": {
    "scrolled": false
   },
   "outputs": [
    {
     "data": {
      "text/plain": [
       "(array([[False, False, False, False, False],\n",
       "        [False, False, False, False,  True],\n",
       "        [False, False, False,  True, False],\n",
       "        [False, False, False,  True,  True],\n",
       "        [False, False,  True, False, False],\n",
       "        [False, False,  True, False,  True],\n",
       "        [False, False,  True,  True, False],\n",
       "        [False, False,  True,  True,  True],\n",
       "        [False,  True, False, False, False],\n",
       "        [False,  True, False, False,  True],\n",
       "        [False,  True, False,  True, False],\n",
       "        [False,  True, False,  True,  True],\n",
       "        [False,  True,  True, False, False],\n",
       "        [False,  True,  True, False,  True],\n",
       "        [False,  True,  True,  True, False],\n",
       "        [False,  True,  True,  True,  True],\n",
       "        [ True, False, False, False, False],\n",
       "        [ True, False, False, False,  True],\n",
       "        [ True, False, False,  True, False],\n",
       "        [ True, False, False,  True,  True],\n",
       "        [ True, False,  True, False, False],\n",
       "        [ True, False,  True, False,  True],\n",
       "        [ True, False,  True,  True, False],\n",
       "        [ True, False,  True,  True,  True],\n",
       "        [ True,  True, False, False, False],\n",
       "        [ True,  True, False, False,  True],\n",
       "        [ True,  True, False,  True, False],\n",
       "        [ True,  True, False,  True,  True],\n",
       "        [ True,  True,  True, False, False],\n",
       "        [ True,  True,  True, False,  True],\n",
       "        [ True,  True,  True,  True, False],\n",
       "        [ True,  True,  True,  True,  True]]),\n",
       " array([ True, False, False,  True, False,  True, False,  True,  True,\n",
       "        False, False,  True, False,  True, False,  True,  True, False,\n",
       "        False,  True, False,  True, False,  True,  True, False,  True,\n",
       "        False,  True, False,  True, False]))"
      ]
     },
     "execution_count": 4,
     "metadata": {},
     "output_type": "execute_result"
    }
   ],
   "source": [
    "X,Y"
   ]
  },
  {
   "cell_type": "code",
   "execution_count": 5,
   "metadata": {},
   "outputs": [
    {
     "data": {
      "text/plain": [
       "DecisionTreeClassifier(class_weight=None, criterion='entropy', max_depth=None,\n",
       "                       max_features=None, max_leaf_nodes=None,\n",
       "                       min_impurity_decrease=0.0, min_impurity_split=None,\n",
       "                       min_samples_leaf=1, min_samples_split=2,\n",
       "                       min_weight_fraction_leaf=0.0, presort=False,\n",
       "                       random_state=0, splitter='best')"
      ]
     },
     "execution_count": 5,
     "metadata": {},
     "output_type": "execute_result"
    }
   ],
   "source": [
    "tree = DecisionTreeClassifier(criterion=\"entropy\", random_state=0)\n",
    "tree.fit(X, Y)"
   ]
  },
  {
   "cell_type": "code",
   "execution_count": 6,
   "metadata": {},
   "outputs": [
    {
     "data": {
      "text/plain": [
       "1.0"
      ]
     },
     "execution_count": 6,
     "metadata": {},
     "output_type": "execute_result"
    }
   ],
   "source": [
    "pred = tree.predict(X)\n",
    "score(pred, Y)"
   ]
  },
  {
   "cell_type": "code",
   "execution_count": 7,
   "metadata": {},
   "outputs": [
    {
     "name": "stdout",
     "output_type": "stream",
     "text": [
      "[[16  0]\n",
      " [ 0 16]]\n"
     ]
    }
   ],
   "source": [
    "print(confusion_matrix(Y, pred))"
   ]
  },
  {
   "cell_type": "code",
   "execution_count": 8,
   "metadata": {},
   "outputs": [],
   "source": [
    "export_graphviz(tree, out_file=\"functionP2.dot\", feature_names=columns[:-1], rounded=True, filled=True)\n",
    "!dot -Tpdf functionP2.dot -o functionP2.pdf"
   ]
  }
 ],
 "metadata": {
  "kernelspec": {
   "display_name": "Python 3",
   "language": "python",
   "name": "python3"
  },
  "language_info": {
   "codemirror_mode": {
    "name": "ipython",
    "version": 3
   },
   "file_extension": ".py",
   "mimetype": "text/x-python",
   "name": "python",
   "nbconvert_exporter": "python",
   "pygments_lexer": "ipython3",
   "version": "3.7.4"
  }
 },
 "nbformat": 4,
 "nbformat_minor": 2
}
