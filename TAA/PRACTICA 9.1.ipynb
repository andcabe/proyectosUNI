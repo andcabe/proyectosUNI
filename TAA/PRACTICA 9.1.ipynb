{
 "cells": [
  {
   "cell_type": "markdown",
   "metadata": {},
   "source": [
    "# PRACTICA 9.1 - PERCEPTRÓN SIMPLE Y ADALINE"
   ]
  },
  {
   "cell_type": "markdown",
   "metadata": {},
   "source": [
    "## Andrés Cabero Mata"
   ]
  },
  {
   "cell_type": "code",
   "execution_count": 1,
   "metadata": {},
   "outputs": [],
   "source": [
    "import numpy as np\n",
    "import pandas as pd\n",
    "from sklearn.datasets import make_blobs\n",
    "from sklearn.preprocessing import MinMaxScaler\n",
    "import matplotlib.pyplot as plt"
   ]
  },
  {
   "cell_type": "code",
   "execution_count": 2,
   "metadata": {},
   "outputs": [],
   "source": [
    "#Clase del perceptron simple.\n",
    "class simple_perceptron():\n",
    "    \n",
    "    def __init__(self, n_inputs = 2, n_outputs = 1, W = None, b = None):\n",
    "        self.n_inputs = n_inputs\n",
    "        self.n_outputs = n_outputs\n",
    "        self.W = W\n",
    "        self.b = b\n",
    "        \n",
    "        if self.W is None:\n",
    "            self.W = np.random.rand(self.n_outputs, self.n_inputs) - 0.5\n",
    "        if self.b is None:\n",
    "            self.b = np.random.rand(self.n_outputs, 1) - 0.5\n",
    "            \n",
    "    def predict(self, x):\n",
    "        return np.sign(self.W @ x.T + self.b).T.astype(int)\n",
    "    \n",
    "    def train(self, X, D):\n",
    "        if np.sum(self.predict(X) == D) != D.shape[0]:\n",
    "            cont = True\n",
    "            p = 0\n",
    "            \n",
    "            while cont:\n",
    "                v = p % X.shape[0]\n",
    "                x = X[v].reshape(1, -1)\n",
    "                y = self.predict(x)\n",
    "                d = D[v].reshape(1, -1)\n",
    "\n",
    "                if y != d:\n",
    "                    self.W += d * x\n",
    "                    self.b += d\n",
    "\n",
    "                    if np.sum(self.predict(X) == D) == D.shape[0]:\n",
    "                        cont = False\n",
    "                p += 1\n",
    "        return\n",
    "    \n",
    "    def get_params(self):\n",
    "        return self.W, self.b"
   ]
  },
  {
   "cell_type": "code",
   "execution_count": 3,
   "metadata": {},
   "outputs": [],
   "source": [
    "#Grupos con funciones separadas para facilitar la separación sin necesidad de reescalar\n",
    "X1, y1 =  make_blobs(n_samples=1000, n_features=2, centers=1, random_state=1)\n",
    "X2, y2 =  make_blobs(n_samples=1000, n_features=2, centers=1, random_state=6)"
   ]
  },
  {
   "cell_type": "code",
   "execution_count": 4,
   "metadata": {},
   "outputs": [],
   "source": [
    "#Clases con valor 1 y -1 para los distintos grupos.\n",
    "y1+=1\n",
    "y2-=1"
   ]
  },
  {
   "cell_type": "code",
   "execution_count": 5,
   "metadata": {},
   "outputs": [
    {
     "data": {
      "text/plain": [
       "((1000, 2), (1000, 2), (1000,), (1000,), 1, -1)"
      ]
     },
     "execution_count": 5,
     "metadata": {},
     "output_type": "execute_result"
    }
   ],
   "source": [
    "X1.shape, X2.shape, y1.shape, y2.shape, y1[0], y2[0]"
   ]
  },
  {
   "cell_type": "code",
   "execution_count": 6,
   "metadata": {
    "scrolled": false
   },
   "outputs": [
    {
     "data": {
      "image/png": "[encoded data removed]",
      "text/plain": [
       "<Figure size 432x288 with 1 Axes>"
      ]
     },
     "metadata": {
      "needs_background": "light"
     },
     "output_type": "display_data"
    }
   ],
   "source": [
    "plt.plot(X1[:,0], X1[:,1], '.')\n",
    "plt.plot(X2[:,0], X2[:,1], '.')\n",
    "plt.show()"
   ]
  },
  {
   "cell_type": "code",
   "execution_count": 7,
   "metadata": {},
   "outputs": [],
   "source": [
    "#Datos y target unidos para ambos grupos\n",
    "D = np.concatenate((X1, X2))\n",
    "t = np.concatenate((y1, y2)).reshape(-1,1)"
   ]
  },
  {
   "cell_type": "code",
   "execution_count": 8,
   "metadata": {},
   "outputs": [],
   "source": [
    "#Normalización de los datos\n",
    "D = MinMaxScaler().fit_transform(D)"
   ]
  },
  {
   "cell_type": "code",
   "execution_count": 9,
   "metadata": {},
   "outputs": [
    {
     "data": {
      "text/plain": [
       "((2000, 2), (2000, 1), array([1]), array([-1]))"
      ]
     },
     "execution_count": 9,
     "metadata": {},
     "output_type": "execute_result"
    }
   ],
   "source": [
    "D.shape, t.shape, t[0], t[1000]"
   ]
  },
  {
   "cell_type": "code",
   "execution_count": 10,
   "metadata": {},
   "outputs": [],
   "source": [
    "w = np.array([0.75, 1.]).reshape(1,2)\n",
    "B = np.array([-3]).reshape(1,1)"
   ]
  },
  {
   "cell_type": "code",
   "execution_count": 11,
   "metadata": {},
   "outputs": [],
   "source": [
    "sp = simple_perceptron(n_inputs=2, n_outputs=1, W=w, b=B)"
   ]
  },
  {
   "cell_type": "code",
   "execution_count": 12,
   "metadata": {},
   "outputs": [],
   "source": [
    "sp.train(D, t)"
   ]
  },
  {
   "cell_type": "code",
   "execution_count": 13,
   "metadata": {},
   "outputs": [],
   "source": [
    "p, b = sp.get_params() "
   ]
  },
  {
   "cell_type": "code",
   "execution_count": 14,
   "metadata": {},
   "outputs": [
    {
     "data": {
      "image/png": "[encoded data removed]",
      "text/plain": [
       "<Figure size 432x288 with 1 Axes>"
      ]
     },
     "metadata": {
      "needs_background": "light"
     },
     "output_type": "display_data"
    }
   ],
   "source": [
    "plt.plot(D[:1000,0], D[:1000,1], '.')\n",
    "plt.plot(D[1000:,0], D[1000:,1], '.')\n",
    "\n",
    "#Puntos de la recta generada por el perceptrón\n",
    "r1 = np.array([0.0, 1.0])\n",
    "r2 = np.array([-b[0,0]/p[0,1],(-b[0,0]-p[0,0])/p[0,1]])\n",
    "plt.xlim((-0.05,1.05))\n",
    "plt.ylim((-0.05,1.05))\n",
    "plt.grid()\n",
    "plt.plot(r1, r2, c=\"red\")\n",
    "plt.show();"
   ]
  },
  {
   "cell_type": "code",
   "execution_count": null,
   "metadata": {},
   "outputs": [],
   "source": []
  }
 ],
 "metadata": {
  "kernelspec": {
   "display_name": "Python 3",
   "language": "python",
   "name": "python3"
  },
  "language_info": {
   "codemirror_mode": {
    "name": "ipython",
    "version": 3
   },
   "file_extension": ".py",
   "mimetype": "text/x-python",
   "name": "python",
   "nbconvert_exporter": "python",
   "pygments_lexer": "ipython3",
   "version": "3.7.4"
  }
 },
 "nbformat": 4,
 "nbformat_minor": 2
}
