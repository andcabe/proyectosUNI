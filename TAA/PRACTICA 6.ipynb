{
 "cells": [
  {
   "cell_type": "markdown",
   "metadata": {},
   "source": [
    "# PRACTICA 6 - BASADOS EN INSTANCIAS"
   ]
  },
  {
   "cell_type": "markdown",
   "metadata": {},
   "source": [
    "## Andres Cabero"
   ]
  },
  {
   "cell_type": "code",
   "execution_count": 1,
   "metadata": {},
   "outputs": [],
   "source": [
    "import pandas as pd\n",
    "import numpy as np\n",
    "from sklearn.model_selection import train_test_split\n",
    "from sklearn.neighbors import KNeighborsClassifier\n",
    "from sklearn.metrics import accuracy_score as score"
   ]
  },
  {
   "cell_type": "code",
   "execution_count": 2,
   "metadata": {},
   "outputs": [],
   "source": [
    "data = pd.read_csv(\"digits_from_5_to_9.csv\")"
   ]
  },
  {
   "cell_type": "code",
   "execution_count": 3,
   "metadata": {},
   "outputs": [],
   "source": [
    "y = data.iloc[1:,-1].values"
   ]
  },
  {
   "cell_type": "code",
   "execution_count": 4,
   "metadata": {},
   "outputs": [
    {
     "data": {
      "text/plain": [
       "(4855,)"
      ]
     },
     "execution_count": 4,
     "metadata": {},
     "output_type": "execute_result"
    }
   ],
   "source": [
    "y.shape"
   ]
  },
  {
   "cell_type": "code",
   "execution_count": 5,
   "metadata": {},
   "outputs": [],
   "source": [
    "x = data.iloc[1:,0:-1].values"
   ]
  },
  {
   "cell_type": "code",
   "execution_count": 6,
   "metadata": {},
   "outputs": [
    {
     "data": {
      "text/plain": [
       "(4855, 784)"
      ]
     },
     "execution_count": 6,
     "metadata": {},
     "output_type": "execute_result"
    }
   ],
   "source": [
    "x.shape"
   ]
  },
  {
   "cell_type": "markdown",
   "metadata": {},
   "source": [
    "### Normal"
   ]
  },
  {
   "cell_type": "code",
   "execution_count": 7,
   "metadata": {},
   "outputs": [],
   "source": [
    "X_train, X_test, y_train, y_test = train_test_split(x, y, test_size=1/3)"
   ]
  },
  {
   "cell_type": "code",
   "execution_count": 8,
   "metadata": {},
   "outputs": [
    {
     "name": "stdout",
     "output_type": "stream",
     "text": [
      "(3236, 784) (1619, 784) (3236,) (1619,)\n"
     ]
    }
   ],
   "source": [
    "print(X_train.shape, X_test.shape, y_train.shape, y_test.shape)"
   ]
  },
  {
   "cell_type": "code",
   "execution_count": 9,
   "metadata": {},
   "outputs": [],
   "source": [
    "kn = KNeighborsClassifier(algorithm=\"brute\")"
   ]
  },
  {
   "cell_type": "code",
   "execution_count": 10,
   "metadata": {},
   "outputs": [],
   "source": [
    "bestScore = []\n",
    "totalScore = []\n",
    "for k in range(1, 8):\n",
    "    #Se entrena el algoritmo para neighbors = k\n",
    "    kn.set_params(n_neighbors=k)\n",
    "    kn.fit(X_train, y_train)\n",
    "    scores = []\n",
    "    \n",
    "    #Se guarda el resultado la prueba completa del conjunto de test\n",
    "    pred = kn.predict(X_test)\n",
    "    totalScore.append(score(pred, y_test))\n",
    "    \n",
    "    #Para cada numero se prueba el clasificador k para cada numero\n",
    "    for i in range(5, 10):\n",
    "        testIdx = np.where(y_test==i)\n",
    "        pred = kn.predict(X_test[testIdx])\n",
    "        scores.append(score(pred, y_test[testIdx]))\n",
    "        \n",
    "    #Se guarda el numero mejor clasificado para neighbors = k\n",
    "    maxScore = np.argmax(scores)\n",
    "    bestScore.append(maxScore)  \n",
    "    "
   ]
  },
  {
   "cell_type": "code",
   "execution_count": 11,
   "metadata": {},
   "outputs": [
    {
     "name": "stdout",
     "output_type": "stream",
     "text": [
      "Best classified number, k= 1 :  6\n",
      "Best classified number, k= 2 :  6\n",
      "Best classified number, k= 3 :  6\n",
      "Best classified number, k= 4 :  6\n",
      "Best classified number, k= 5 :  6\n",
      "Best classified number, k= 6 :  7\n",
      "Best classified number, k= 7 :  7\n"
     ]
    }
   ],
   "source": [
    "for i in range(1, 8):\n",
    "    print(\"Best classified number, k=\", i, \": \", bestScore[i-5]+5)\n",
    "    \n",
    "#Se muestra el clasificador completo se muestra el k optimo\n",
    "bestScore = np.asarray(bestScore)\n",
    "if((bestScore[0] == bestScore).all()):\n",
    "    print(\"Best k classifier, k =\", np.argmax(totalScore)+5,\": \", totalScore[np.argmax(totalScore)])"
   ]
  },
  {
   "cell_type": "markdown",
   "metadata": {},
   "source": [
    "### Binario"
   ]
  },
  {
   "cell_type": "code",
   "execution_count": 12,
   "metadata": {},
   "outputs": [],
   "source": [
    "#Cambiamos los valores mayores a 1 de los datos a 1.\n",
    "x[x>0]=1"
   ]
  },
  {
   "cell_type": "code",
   "execution_count": 13,
   "metadata": {},
   "outputs": [],
   "source": [
    "X_train, X_test, y_train, y_test = train_test_split(x, y, test_size=1/3)"
   ]
  },
  {
   "cell_type": "code",
   "execution_count": 14,
   "metadata": {},
   "outputs": [
    {
     "name": "stdout",
     "output_type": "stream",
     "text": [
      "(3236, 784) (1619, 784) (3236,) (1619,)\n"
     ]
    }
   ],
   "source": [
    "print(X_train.shape, X_test.shape, y_train.shape, y_test.shape)"
   ]
  },
  {
   "cell_type": "code",
   "execution_count": 15,
   "metadata": {},
   "outputs": [],
   "source": [
    "kn = KNeighborsClassifier(algorithm=\"brute\")"
   ]
  },
  {
   "cell_type": "code",
   "execution_count": 16,
   "metadata": {},
   "outputs": [],
   "source": [
    "bestScore = []\n",
    "totalScore = []\n",
    "for k in range(1, 8):\n",
    "    #Se entrena el algoritmo para neighbors = k\n",
    "    kn.set_params(n_neighbors=k)\n",
    "    kn.fit(X_train, y_train)\n",
    "    scores = []\n",
    "    \n",
    "    #Se guarda el resultado la prueba completa del conjunto de test\n",
    "    pred = kn.predict(X_test)\n",
    "    totalScore.append(score(pred, y_test))\n",
    "    \n",
    "    #Para cada numero se prueba el clasificador k para cada numero\n",
    "    for i in range(5, 10):\n",
    "        testIdx = np.where(y_test==i)\n",
    "        pred = kn.predict(X_test[testIdx])\n",
    "        scores.append(score(pred, y_test[testIdx]))\n",
    "        \n",
    "    #Se guarda el numero mejor clasificado para neighbors = k\n",
    "    maxScore = np.argmax(scores)\n",
    "    bestScore.append(maxScore)  \n",
    "    "
   ]
  },
  {
   "cell_type": "code",
   "execution_count": 17,
   "metadata": {},
   "outputs": [
    {
     "name": "stdout",
     "output_type": "stream",
     "text": [
      "Best classified number, k= 1 :  6\n",
      "Best classified number, k= 2 :  6\n",
      "Best classified number, k= 3 :  6\n",
      "Best classified number, k= 4 :  6\n",
      "Best classified number, k= 5 :  6\n",
      "Best classified number, k= 6 :  6\n",
      "Best classified number, k= 7 :  6\n",
      "Best k classifier, k = 7 :  0.9684990735021618\n"
     ]
    }
   ],
   "source": [
    "for i in range(1, 8):\n",
    "    print(\"Best classified number, k=\", i, \": \", bestScore[i-5]+5)\n",
    "    \n",
    "#Se muestra el clasificador completo se muestra el k optimo\n",
    "bestScore = np.asarray(bestScore)\n",
    "if((bestScore[0] == bestScore).all()):\n",
    "    print(\"Best k classifier, k =\", np.argmax(totalScore)+5,\": \", totalScore[np.argmax(totalScore)])"
   ]
  },
  {
   "cell_type": "code",
   "execution_count": null,
   "metadata": {},
   "outputs": [],
   "source": []
  }
 ],
 "metadata": {
  "kernelspec": {
   "display_name": "Python 3",
   "language": "python",
   "name": "python3"
  },
  "language_info": {
   "codemirror_mode": {
    "name": "ipython",
    "version": 3
   },
   "file_extension": ".py",
   "mimetype": "text/x-python",
   "name": "python",
   "nbconvert_exporter": "python",
   "pygments_lexer": "ipython3",
   "version": "3.7.4"
  }
 },
 "nbformat": 4,
 "nbformat_minor": 2
}
