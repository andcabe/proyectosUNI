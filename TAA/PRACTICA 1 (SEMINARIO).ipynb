{
 "cells": [
  {
   "cell_type": "markdown",
   "metadata": {},
   "source": [
    "# PRACTICA 1 - ANDRÉS CABERO"
   ]
  },
  {
   "cell_type": "markdown",
   "metadata": {},
   "source": [
    "## Ganancia - Play Tennis"
   ]
  },
  {
   "cell_type": "code",
   "execution_count": 1,
   "metadata": {},
   "outputs": [],
   "source": [
    "import pandas as pd\n",
    "import numpy as np"
   ]
  },
  {
   "cell_type": "code",
   "execution_count": 2,
   "metadata": {},
   "outputs": [],
   "source": [
    "tennis = pd.read_csv(\"riesgo.csv\")"
   ]
  },
  {
   "cell_type": "code",
   "execution_count": 3,
   "metadata": {
    "scrolled": false
   },
   "outputs": [
    {
     "data": {
      "text/html": [
       "<div>\n",
       "<style scoped>\n",
       "    .dataframe tbody tr th:only-of-type {\n",
       "        vertical-align: middle;\n",
       "    }\n",
       "\n",
       "    .dataframe tbody tr th {\n",
       "        vertical-align: top;\n",
       "    }\n",
       "\n",
       "    .dataframe thead th {\n",
       "        text-align: right;\n",
       "    }\n",
       "</style>\n",
       "<table border=\"1\" class=\"dataframe\">\n",
       "  <thead>\n",
       "    <tr style=\"text-align: right;\">\n",
       "      <th></th>\n",
       "      <th>Historia</th>\n",
       "      <th>Deuda</th>\n",
       "      <th>Avales</th>\n",
       "      <th>Ingresos</th>\n",
       "      <th>Riesgo</th>\n",
       "    </tr>\n",
       "  </thead>\n",
       "  <tbody>\n",
       "    <tr>\n",
       "      <td>0</td>\n",
       "      <td>mala</td>\n",
       "      <td>alta</td>\n",
       "      <td>no</td>\n",
       "      <td>0 a 2M</td>\n",
       "      <td>alto</td>\n",
       "    </tr>\n",
       "    <tr>\n",
       "      <td>1</td>\n",
       "      <td>desconocida</td>\n",
       "      <td>alta</td>\n",
       "      <td>no</td>\n",
       "      <td>2 a 5M</td>\n",
       "      <td>alto</td>\n",
       "    </tr>\n",
       "    <tr>\n",
       "      <td>2</td>\n",
       "      <td>desconocida</td>\n",
       "      <td>baja</td>\n",
       "      <td>no</td>\n",
       "      <td>2 a 5M</td>\n",
       "      <td>moderado</td>\n",
       "    </tr>\n",
       "    <tr>\n",
       "      <td>3</td>\n",
       "      <td>desconocida</td>\n",
       "      <td>baja</td>\n",
       "      <td>no</td>\n",
       "      <td>0 a 2M</td>\n",
       "      <td>alto</td>\n",
       "    </tr>\n",
       "    <tr>\n",
       "      <td>4</td>\n",
       "      <td>desconocida</td>\n",
       "      <td>baja</td>\n",
       "      <td>no</td>\n",
       "      <td>más de 5M</td>\n",
       "      <td>bajo</td>\n",
       "    </tr>\n",
       "    <tr>\n",
       "      <td>5</td>\n",
       "      <td>desconocida</td>\n",
       "      <td>baja</td>\n",
       "      <td>adecuados</td>\n",
       "      <td>más de 5M</td>\n",
       "      <td>bajo</td>\n",
       "    </tr>\n",
       "    <tr>\n",
       "      <td>6</td>\n",
       "      <td>mala</td>\n",
       "      <td>baja</td>\n",
       "      <td>no</td>\n",
       "      <td>0 a 2M</td>\n",
       "      <td>alto</td>\n",
       "    </tr>\n",
       "    <tr>\n",
       "      <td>7</td>\n",
       "      <td>mala</td>\n",
       "      <td>baja</td>\n",
       "      <td>adecuados</td>\n",
       "      <td>más de 5M</td>\n",
       "      <td>moderado</td>\n",
       "    </tr>\n",
       "    <tr>\n",
       "      <td>8</td>\n",
       "      <td>buena</td>\n",
       "      <td>baja</td>\n",
       "      <td>no</td>\n",
       "      <td>más de 5M</td>\n",
       "      <td>bajo</td>\n",
       "    </tr>\n",
       "    <tr>\n",
       "      <td>9</td>\n",
       "      <td>buena</td>\n",
       "      <td>alta</td>\n",
       "      <td>adecuados</td>\n",
       "      <td>más de 5M</td>\n",
       "      <td>bajo</td>\n",
       "    </tr>\n",
       "    <tr>\n",
       "      <td>10</td>\n",
       "      <td>buena</td>\n",
       "      <td>alta</td>\n",
       "      <td>no</td>\n",
       "      <td>0 a 2M</td>\n",
       "      <td>alto</td>\n",
       "    </tr>\n",
       "    <tr>\n",
       "      <td>11</td>\n",
       "      <td>buena</td>\n",
       "      <td>alta</td>\n",
       "      <td>no</td>\n",
       "      <td>2 a 5M</td>\n",
       "      <td>moderado</td>\n",
       "    </tr>\n",
       "    <tr>\n",
       "      <td>12</td>\n",
       "      <td>buena</td>\n",
       "      <td>alta</td>\n",
       "      <td>no</td>\n",
       "      <td>más de 5M</td>\n",
       "      <td>bajo</td>\n",
       "    </tr>\n",
       "    <tr>\n",
       "      <td>13</td>\n",
       "      <td>mala</td>\n",
       "      <td>alta</td>\n",
       "      <td>no</td>\n",
       "      <td>2 a 5M</td>\n",
       "      <td>alto</td>\n",
       "    </tr>\n",
       "  </tbody>\n",
       "</table>\n",
       "</div>"
      ],
      "text/plain": [
       "       Historia Deuda     Avales   Ingresos    Riesgo\n",
       "0          mala  alta         no     0 a 2M      alto\n",
       "1   desconocida  alta         no     2 a 5M      alto\n",
       "2   desconocida  baja         no     2 a 5M  moderado\n",
       "3   desconocida  baja         no     0 a 2M      alto\n",
       "4   desconocida  baja         no  más de 5M      bajo\n",
       "5   desconocida  baja  adecuados  más de 5M      bajo\n",
       "6          mala  baja         no     0 a 2M      alto\n",
       "7          mala  baja  adecuados  más de 5M  moderado\n",
       "8         buena  baja         no  más de 5M      bajo\n",
       "9         buena  alta  adecuados  más de 5M      bajo\n",
       "10        buena  alta         no     0 a 2M      alto\n",
       "11        buena  alta         no     2 a 5M  moderado\n",
       "12        buena  alta         no  más de 5M      bajo\n",
       "13         mala  alta         no     2 a 5M      alto"
      ]
     },
     "execution_count": 3,
     "metadata": {},
     "output_type": "execute_result"
    }
   ],
   "source": [
    "tennis"
   ]
  },
  {
   "cell_type": "code",
   "execution_count": 4,
   "metadata": {},
   "outputs": [
    {
     "data": {
      "text/plain": [
       "array([['mala', 'alta', 'no', '0 a 2M', 'alto'],\n",
       "       ['desconocida', 'alta', 'no', '2 a 5M', 'alto'],\n",
       "       ['desconocida', 'baja', 'no', '2 a 5M', 'moderado'],\n",
       "       ['desconocida', 'baja', 'no', '0 a 2M', 'alto'],\n",
       "       ['desconocida', 'baja', 'no', 'más de 5M', 'bajo'],\n",
       "       ['desconocida', 'baja', 'adecuados', 'más de 5M', 'bajo'],\n",
       "       ['mala', 'baja', 'no', '0 a 2M', 'alto'],\n",
       "       ['mala', 'baja', 'adecuados', 'más de 5M', 'moderado'],\n",
       "       ['buena', 'baja', 'no', 'más de 5M', 'bajo'],\n",
       "       ['buena', 'alta', 'adecuados', 'más de 5M', 'bajo'],\n",
       "       ['buena', 'alta', 'no', '0 a 2M', 'alto'],\n",
       "       ['buena', 'alta', 'no', '2 a 5M', 'moderado'],\n",
       "       ['buena', 'alta', 'no', 'más de 5M', 'bajo'],\n",
       "       ['mala', 'alta', 'no', '2 a 5M', 'alto']], dtype=object)"
      ]
     },
     "execution_count": 4,
     "metadata": {},
     "output_type": "execute_result"
    }
   ],
   "source": [
    "data = np.asarray(tennis)\n",
    "data"
   ]
  },
  {
   "cell_type": "code",
   "execution_count": 5,
   "metadata": {},
   "outputs": [],
   "source": [
    "def entropy(data, att):\n",
    "\n",
    "    #Encontramos los elementos únicos del atributo y calculamos sus probabilidades\n",
    "    atts = np.unique(data[:,att], return_counts=True)\n",
    "    probs = atts[1]/data.shape[0]\n",
    "\n",
    "    #Calculamos la entropía con el siguiente sumatorio\n",
    "    h = 0\n",
    "    for p in probs:\n",
    "        \n",
    "        h += p*np.log2(1/p)\n",
    "    \n",
    "    return h"
   ]
  },
  {
   "cell_type": "code",
   "execution_count": 6,
   "metadata": {},
   "outputs": [],
   "source": [
    "def gain(data):\n",
    "\n",
    "    #Calculamos la entropía de la clase (PRE: La clase es la última columna)\n",
    "    hs = entropy(data, -1)\n",
    "        \n",
    "    \n",
    "    gain = []\n",
    "    for col in range(data.shape[1]-1):\n",
    "    \n",
    "    #Para cada atributo encontramos las posiciones de cada valor diferente\n",
    "        column = data[:,col]\n",
    "        atts = np.unique(column)\n",
    "        idx = [np.where(column==a) for a in atts]\n",
    "\n",
    "    #Calculamos la ganancia del atributo calculando la entropía de la clase para cada valor distinto del atributo\n",
    "        sum = 0\n",
    "        for i in idx:\n",
    "            sum += entropy(data[i], -1)*(len(i[0])/data.shape[0])\n",
    "        gain.append(hs-sum)\n",
    "            \n",
    "    return gain"
   ]
  },
  {
   "cell_type": "code",
   "execution_count": 7,
   "metadata": {
    "scrolled": true
   },
   "outputs": [
    {
     "name": "stdout",
     "output_type": "stream",
     "text": [
      "1.2649647103247632\n",
      "1.467720100474499\n",
      "1.3245694857630952\n",
      "0.5642953235635804\n",
      "Ganancia de Historia : 0.2657\n",
      "Ganancia de Deuda : 0.0629\n",
      "Ganancia de Avales : 0.2060\n",
      "Ganancia de Ingresos : 0.9663\n"
     ]
    }
   ],
   "source": [
    "gains = gain(data)\n",
    "\n",
    "for i in range(len(gains)):\n",
    "    print(\"Ganancia de\", tennis.columns[i], \": %.4f\" % gains[i])"
   ]
  },
  {
   "cell_type": "code",
   "execution_count": 1,
   "metadata": {},
   "outputs": [],
   "source": [
    "import numpy as np"
   ]
  },
  {
   "cell_type": "code",
   "execution_count": 2,
   "metadata": {},
   "outputs": [],
   "source": [
    "A = np.asarray([[2,7,6],[-3,4,2],[1,-1,0]])\n",
    "B = np.asarray([[2/33,2/11,-10/33],[-2/33,-2/11,-2/3],[-1/33,-3/11,29/33]])"
   ]
  },
  {
   "cell_type": "code",
   "execution_count": 6,
   "metadata": {},
   "outputs": [
    {
     "data": {
      "text/plain": [
       "array([[ 2,  7,  6],\n",
       "       [-3,  4,  2],\n",
       "       [ 1, -1,  0]])"
      ]
     },
     "execution_count": 6,
     "metadata": {},
     "output_type": "execute_result"
    }
   ],
   "source": [
    "A"
   ]
  },
  {
   "cell_type": "code",
   "execution_count": 12,
   "metadata": {},
   "outputs": [],
   "source": [
    "inverse = np.linalg.inv(A)"
   ]
  },
  {
   "cell_type": "code",
   "execution_count": 16,
   "metadata": {},
   "outputs": [
    {
     "data": {
      "text/plain": [
       "array([[ 0.16666667, -0.5       , -0.83333333],\n",
       "       [ 0.16666667, -0.5       , -1.83333333],\n",
       "       [-0.08333333,  0.75      ,  2.41666667]])"
      ]
     },
     "execution_count": 16,
     "metadata": {},
     "output_type": "execute_result"
    }
   ],
   "source": [
    "inverse"
   ]
  },
  {
   "cell_type": "code",
   "execution_count": 17,
   "metadata": {},
   "outputs": [
    {
     "data": {
      "text/plain": [
       "array([[-4.84848485e-01, -2.54545455e+00,  2.22044605e-16],\n",
       "       [-4.84848485e-01, -1.81818182e+00,  2.22044605e-16],\n",
       "       [ 1.21212121e-01,  3.63636364e-01,  3.63636364e-01]])"
      ]
     },
     "execution_count": 17,
     "metadata": {},
     "output_type": "execute_result"
    }
   ],
   "source": [
    "np.matmul(A,B)"
   ]
  },
  {
   "cell_type": "code",
   "execution_count": 15,
   "metadata": {},
   "outputs": [
    {
     "data": {
      "text/plain": [
       "1.0"
      ]
     },
     "execution_count": 15,
     "metadata": {},
     "output_type": "execute_result"
    }
   ],
   "source": [
    "1+2.77555756e-17"
   ]
  },
  {
   "cell_type": "code",
   "execution_count": 18,
   "metadata": {},
   "outputs": [
    {
     "data": {
      "text/plain": [
       "11.999999999999995"
      ]
     },
     "execution_count": 18,
     "metadata": {},
     "output_type": "execute_result"
    }
   ],
   "source": [
    "np.linalg.det(A)"
   ]
  },
  {
   "cell_type": "code",
   "execution_count": null,
   "metadata": {},
   "outputs": [],
   "source": []
  }
 ],
 "metadata": {
  "kernelspec": {
   "display_name": "Python 3",
   "language": "python",
   "name": "python3"
  },
  "language_info": {
   "codemirror_mode": {
    "name": "ipython",
    "version": 3
   },
   "file_extension": ".py",
   "mimetype": "text/x-python",
   "name": "python",
   "nbconvert_exporter": "python",
   "pygments_lexer": "ipython3",
   "version": "3.7.4"
  }
 },
 "nbformat": 4,
 "nbformat_minor": 2
}
