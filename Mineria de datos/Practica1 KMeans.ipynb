{
 "cells": [
  {
   "cell_type": "markdown",
   "metadata": {},
   "source": [
    "# PRACTICA INICIAL - ANDRÉS CABERO"
   ]
  },
  {
   "cell_type": "code",
   "execution_count": 1,
   "metadata": {},
   "outputs": [],
   "source": [
    "import numpy as np\n",
    "from sklearn.datasets import load_iris\n",
    "from sklearn.cluster import KMeans\n",
    "from sklearn.model_selection import StratifiedKFold\n",
    "from sklearn.preprocessing import scale\n",
    "from sklearn.metrics import accuracy_score as acScore\n",
    "from scipy.stats import mode"
   ]
  },
  {
   "cell_type": "code",
   "execution_count": 2,
   "metadata": {},
   "outputs": [],
   "source": [
    "#Inicialización de datos de configuración del experimento\n",
    "CAPAS=10\n",
    "INICIORANGO = 3\n",
    "FINRANGO = 11\n",
    "RANGO = range(INICIORANGO,FINRANGO)"
   ]
  },
  {
   "cell_type": "code",
   "execution_count": 3,
   "metadata": {},
   "outputs": [],
   "source": [
    "#Inicialización de dataset y clases\n",
    "iris = load_iris()\n",
    "X = scale(iris.data)\n",
    "Y = iris.target"
   ]
  },
  {
   "cell_type": "code",
   "execution_count": 4,
   "metadata": {},
   "outputs": [
    {
     "name": "stdout",
     "output_type": "stream",
     "text": [
      "3 -> 0.8333333333333334\n",
      "4 -> 0.8266666666666667\n",
      "5 -> 0.8466666666666667\n",
      "6 -> 0.8400000000000001\n",
      "7 -> 0.86\n",
      "8 -> 0.86\n",
      "9 -> 0.9200000000000002\n",
      "10 -> 0.9400000000000001\n"
     ]
    }
   ],
   "source": [
    "acierto = [0 for _ in RANGO]\n",
    "for k in RANGO:\n",
    "    skf = StratifiedKFold(n_splits=CAPAS, random_state=0)\n",
    "    skf = skf.split(X, Y)\n",
    "    kmeans = KMeans(n_clusters=k, random_state=0)\n",
    "\n",
    "    for train_index, test_index in skf:\n",
    "        \n",
    "#Se entrena el modelo y se calcula la prediccion del conjunto de test\n",
    "        kmeans.fit(X[train_index])\n",
    "        predCluster = kmeans.predict(X[test_index])\n",
    "        clusters = kmeans.labels_\n",
    "\n",
    "#Se calcula la clase asociada a cada cluster según la clase moda de cada cluster\n",
    "        moda = [[] for _ in range(k)]\n",
    "        for j in range(len(train_index)):\n",
    "            moda[clusters[j]].append(Y[train_index[j]])      \n",
    "        moda = np.asarray([max(e, key=e.count) for e in moda])\n",
    "\n",
    "# # moda calculada utilzando la funcion de scipy.mode (SINUSAR)\n",
    "        #moda = np.zeros(k, dtype='int')\n",
    "        #for i in range(k):\n",
    "        #    moda[i] = mode(Y[np.argwhere(clusters==i)])[0].astype(int)\n",
    "    \n",
    "#Se establece la prediccion hecha por el modelo al conjunto de test\n",
    "        pred = moda[predCluster]     \n",
    "\n",
    "#Sumamos el porcentaje de acierto para cada capa\n",
    "        acierto[k-INICIORANGO] += acScore(pred, Y[test_index]) / CAPAS\n",
    "    \n",
    "    print(k, \"->\", acierto[k-INICIORANGO])"
   ]
  },
  {
   "cell_type": "code",
   "execution_count": 5,
   "metadata": {
    "scrolled": true
   },
   "outputs": [
    {
     "name": "stdout",
     "output_type": "stream",
     "text": [
      "El K optimo es:  10  con porcentaje de acierto:  0.9400000000000001\n"
     ]
    }
   ],
   "source": [
    "print(\"El K optimo es: \", acierto.index(max(acierto))+INICIORANGO, \" con porcentaje de acierto: \", max(acierto))"
   ]
  },
  {
   "cell_type": "code",
   "execution_count": null,
   "metadata": {},
   "outputs": [],
   "source": []
  }
 ],
 "metadata": {
  "kernelspec": {
   "display_name": "Python 3",
   "language": "python",
   "name": "python3"
  },
  "language_info": {
   "codemirror_mode": {
    "name": "ipython",
    "version": 3
   },
   "file_extension": ".py",
   "mimetype": "text/x-python",
   "name": "python",
   "nbconvert_exporter": "python",
   "pygments_lexer": "ipython3",
   "version": "3.7.4"
  }
 },
 "nbformat": 4,
 "nbformat_minor": 2
}
