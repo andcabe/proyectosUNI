{
 "cells": [
  {
   "cell_type": "markdown",
   "metadata": {},
   "source": [
    "# PRACTICA 5 - ANDRÉS CABERO"
   ]
  },
  {
   "cell_type": "code",
   "execution_count": 1,
   "metadata": {},
   "outputs": [],
   "source": [
    "import numpy as np\n",
    "from sklearn.datasets import load_iris\n",
    "from sklearn.datasets import fetch_openml\n",
    "from sklearn.utils import check_array\n",
    "from sklearn.preprocessing import normalize\n",
    "from sklearn.model_selection import train_test_split\n",
    "from scipy.stats import mode"
   ]
  },
  {
   "cell_type": "code",
   "execution_count": 2,
   "metadata": {},
   "outputs": [],
   "source": [
    "datos = fetch_openml(\"mnist_784\")"
   ]
  },
  {
   "cell_type": "code",
   "execution_count": 3,
   "metadata": {},
   "outputs": [
    {
     "data": {
      "text/plain": [
       "(70000, 784)"
      ]
     },
     "execution_count": 3,
     "metadata": {},
     "output_type": "execute_result"
    }
   ],
   "source": [
    "X = check_array(datos['data'], dtype=\"float\", order='F')\n",
    "Y = datos[\"target\"]\n",
    "X.shape"
   ]
  },
  {
   "cell_type": "code",
   "execution_count": 4,
   "metadata": {},
   "outputs": [
    {
     "data": {
      "text/plain": [
       "(70000, 785)"
      ]
     },
     "execution_count": 4,
     "metadata": {},
     "output_type": "execute_result"
    }
   ],
   "source": [
    "#Normalización extendida\n",
    "X = normalize(np.c_[X, np.ones(X.shape[0])])\n",
    "X.shape"
   ]
  },
  {
   "cell_type": "code",
   "execution_count": 5,
   "metadata": {},
   "outputs": [],
   "source": [
    "X_train, X_test, y_train, y_test = train_test_split(X, Y, test_size=1/7)"
   ]
  },
  {
   "cell_type": "code",
   "execution_count": 6,
   "metadata": {},
   "outputs": [
    {
     "name": "stdout",
     "output_type": "stream",
     "text": [
      "(60000, 785) (10000, 785) (60000,) (10000,)\n"
     ]
    }
   ],
   "source": [
    "print(X_train.shape, X_test.shape, y_train.shape, y_test.shape)"
   ]
  },
  {
   "cell_type": "code",
   "execution_count": 7,
   "metadata": {},
   "outputs": [],
   "source": [
    "class SOM:\n",
    "    \n",
    "    def __init__(self, shape, dim):\n",
    "        \n",
    "        self.dim = dim\n",
    "        self.shape = shape\n",
    "        self.rows = self.shape[0]\n",
    "        self.columns = self.shape[1]\n",
    "        self.size = self.shape[0]*self.shape[1]\n",
    "        self.neurons = [normalize(np.random.random((1, dim)) - 0.5) for _ in range(self.size)]\n",
    "        self.labels = []\n",
    "        self.trained = False\n",
    "        self.train_epochs = None\n",
    "        self.train_radious = None\n",
    "        self.train_alpha = None\n",
    "        self.labeling = \"None\"\n",
    "        \n",
    "    def __repr__(self):\n",
    "        \n",
    "        return \"<SOM shape:%s dim:%s fit:%s labeling:%s>\" % (self.shape, self.dim, self.trained, self.labeling)\n",
    "\n",
    "    def __str__(self):\n",
    "        \n",
    "        if self.trained:\n",
    "            \n",
    "            return \"SOM (Self-organizing map) shape: %s, dim: %s, fit: %s (epochs: %s, radious: %s, alpha: %s), labeling: %s.\" % (self.shape, self.dim, self.trained, self.train_epochs, self.train_radious, self.train_alpha, self.labeling)\n",
    "        \n",
    "        return \"SOM (Self-organizing map) shape: %s, dim: %s, fit: %s, labeling: %s.\" % (self.shape, self.dim, self.trained, self.labeling)\n",
    "        \n",
    "    def fit(self, data, epochs=1, radious=1, initial_alpha=1):\n",
    "\n",
    "        self.train_epochs = epochs\n",
    "        self.train_radious = radious\n",
    "        self.train_alpha = initial_alpha\n",
    "        \n",
    "        #P = Número de iteraciones en una época\n",
    "        p = data.shape[0]\n",
    "        t=0\n",
    "        #Para cada ÉPOCA\n",
    "        for e in range(epochs):\n",
    "            \n",
    "            #Para cada MUESTRA\n",
    "            for d in data:\n",
    "                \n",
    "                alpha = initial_alpha/(1.0+t/p)\n",
    "                \n",
    "                pred = self.predict(d.reshape(1,-1))\n",
    "                \n",
    "                r_winner = int(pred[0]/self.columns)\n",
    "                c_winner = pred[0]%self.columns\n",
    "                \n",
    "                for r in range(r_winner-radious, r_winner+radious+1):\n",
    "                    \n",
    "                    r = r%self.rows\n",
    "                    \n",
    "                    for c in range(c_winner-radious, c_winner+radious+1):\n",
    "                    \n",
    "                        c = c%self.columns\n",
    "                        \n",
    "                        self.neurons[(r*self.columns)+c] = normalize(self.neurons[(r*self.columns)+c]+(alpha*d.reshape(1,-1)))\n",
    "\n",
    "                t+=1\n",
    "\n",
    "            print(t, alpha, radious)\n",
    "                \n",
    "            if radious > 0:\n",
    "                radious-=1    \n",
    "            \n",
    "            if alpha == 0:\n",
    "                break\n",
    "            \n",
    "        self.trained = True\n",
    "\n",
    "        \n",
    "    def label_neurons(self, data, target):\n",
    "        \n",
    "        self.labels = [target[np.argmax(data @ ni.T)] for ni in self.neurons]\n",
    "        \n",
    "        self.labeling = \"Neurons\"\n",
    "            \n",
    "    def label_mode(self, data, target):\n",
    "        \n",
    "        self.labels = [[] for _ in self.neurons]\n",
    "            \n",
    "        for di in range(data.shape[0]):\n",
    "\n",
    "            pred = self.predict(data[di].reshape(1,-1))\n",
    "\n",
    "            self.labels[pred[0]].append(target[di])\n",
    "        \n",
    "        self.labels = [mode(i)[0][0] if len(i) > 0  else -1 for i in self.labels]\n",
    "        \n",
    "        self.labeling = \"Mode\"\n",
    "        \n",
    "    def predict(self, data):\n",
    "        \n",
    "        pred = []\n",
    "        \n",
    "        for d in data:\n",
    "            \n",
    "            n_winner = -np.inf\n",
    "            i_winner = None\n",
    "        \n",
    "            for ni in range(self.size):\n",
    "\n",
    "                n_current = d @ self.neurons[ni].T\n",
    "\n",
    "                if n_current > n_winner:\n",
    "                    \n",
    "                    n_winner = n_current\n",
    "                    i_winner = ni\n",
    "            \n",
    "            pred.append(i_winner)\n",
    "        \n",
    "        return pred\n",
    "        \n",
    "    \n",
    "    def predict_label(self, data):\n",
    "        \n",
    "        return [self.labels[i] for i in self.predict(data)]\n",
    "        "
   ]
  },
  {
   "cell_type": "code",
   "execution_count": 8,
   "metadata": {},
   "outputs": [],
   "source": [
    "shape = (12,8)\n",
    "dim = X_train.shape[1]\n",
    "epochs = 15\n",
    "radious = int((8-1)/2)\n",
    "alpha = 0.5"
   ]
  },
  {
   "cell_type": "code",
   "execution_count": 9,
   "metadata": {},
   "outputs": [],
   "source": [
    "som = SOM(shape, dim)"
   ]
  },
  {
   "cell_type": "code",
   "execution_count": 10,
   "metadata": {},
   "outputs": [
    {
     "name": "stdout",
     "output_type": "stream",
     "text": [
      "60000 0.2500020833506946 3\n",
      "120000 0.16666759259773667 2\n",
      "180000 0.12500052083550348 1\n",
      "240000 0.10000033333444446 0\n",
      "300000 0.08333356481545781 0\n",
      "360000 0.07142874149700357 0\n",
      "420000 0.06250013020860459 0\n",
      "480000 0.05555565843640452 0\n",
      "540000 0.05000008333347222 0\n",
      "600000 0.04545461432517322 0\n",
      "660000 0.041666724537117415 0\n",
      "720000 0.038461587771266376 0\n",
      "780000 0.035714328231343136 0\n",
      "840000 0.03333337037041152 0\n",
      "900000 0.031250032552117245 0\n"
     ]
    }
   ],
   "source": [
    "som.fit(X_train, epochs, radious, alpha)"
   ]
  },
  {
   "cell_type": "markdown",
   "metadata": {},
   "source": [
    "## Etiquetado con moda"
   ]
  },
  {
   "cell_type": "code",
   "execution_count": 11,
   "metadata": {},
   "outputs": [],
   "source": [
    "from sklearn.metrics import accuracy_score"
   ]
  },
  {
   "cell_type": "code",
   "execution_count": 12,
   "metadata": {},
   "outputs": [],
   "source": [
    "som.label_mode(X_train, y_train)"
   ]
  },
  {
   "cell_type": "code",
   "execution_count": 13,
   "metadata": {},
   "outputs": [
    {
     "name": "stdout",
     "output_type": "stream",
     "text": [
      "SOM (Self-organizing map) shape: (12, 8), dim: 785, fit: True (epochs: 15, radious: 3, alpha: 0.5), labeling: Mode.\n"
     ]
    }
   ],
   "source": [
    "print(som)"
   ]
  },
  {
   "cell_type": "code",
   "execution_count": 14,
   "metadata": {},
   "outputs": [],
   "source": [
    "pred = som.predict_label(X_test)"
   ]
  },
  {
   "cell_type": "code",
   "execution_count": 15,
   "metadata": {
    "scrolled": true
   },
   "outputs": [
    {
     "name": "stdout",
     "output_type": "stream",
     "text": [
      "0.8921\n"
     ]
    }
   ],
   "source": [
    "print(accuracy_score(y_test, pred))"
   ]
  },
  {
   "cell_type": "markdown",
   "metadata": {},
   "source": [
    "## Etiquetado con neurona"
   ]
  },
  {
   "cell_type": "code",
   "execution_count": 16,
   "metadata": {},
   "outputs": [],
   "source": [
    "from sklearn.metrics import accuracy_score"
   ]
  },
  {
   "cell_type": "code",
   "execution_count": 17,
   "metadata": {},
   "outputs": [],
   "source": [
    "som.label_neurons(X_train, y_train)"
   ]
  },
  {
   "cell_type": "code",
   "execution_count": 18,
   "metadata": {
    "scrolled": true
   },
   "outputs": [
    {
     "name": "stdout",
     "output_type": "stream",
     "text": [
      "SOM (Self-organizing map) shape: (12, 8), dim: 785, fit: True (epochs: 15, radious: 3, alpha: 0.5), labeling: Neurons.\n"
     ]
    }
   ],
   "source": [
    "print(som)"
   ]
  },
  {
   "cell_type": "code",
   "execution_count": 19,
   "metadata": {},
   "outputs": [],
   "source": [
    "pred = som.predict_label(X_test)"
   ]
  },
  {
   "cell_type": "code",
   "execution_count": 20,
   "metadata": {
    "scrolled": false
   },
   "outputs": [
    {
     "name": "stdout",
     "output_type": "stream",
     "text": [
      "0.8921\n"
     ]
    }
   ],
   "source": [
    "print(accuracy_score(y_test, pred))"
   ]
  }
 ],
 "metadata": {
  "kernelspec": {
   "display_name": "Python 3",
   "language": "python",
   "name": "python3"
  },
  "language_info": {
   "codemirror_mode": {
    "name": "ipython",
    "version": 3
   },
   "file_extension": ".py",
   "mimetype": "text/x-python",
   "name": "python",
   "nbconvert_exporter": "python",
   "pygments_lexer": "ipython3",
   "version": "3.7.4"
  }
 },
 "nbformat": 4,
 "nbformat_minor": 2
}
