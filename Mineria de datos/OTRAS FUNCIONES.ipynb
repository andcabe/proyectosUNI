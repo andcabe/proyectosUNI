{
 "cells": [
  {
   "cell_type": "code",
   "execution_count": null,
   "metadata": {},
   "outputs": [],
   "source": [
    "#GENERADOR\n",
    "#Función recursiva que devuelve un generador con todas las particiones unicas posibles de una lista\n",
    "def partitionGen(M):\n",
    "\n",
    "    partSet=[]\n",
    "\n",
    "#Caso de tener un conjunto compuesto con un único valor\n",
    "    if len(M)==1:\n",
    "        yield [M]\n",
    "        return\n",
    "    \n",
    "#Se guarda el primer valor del conjunto\n",
    "    first = M[0]\n",
    "\n",
    "    for subPart in partitionGen(M[1:]):\n",
    "\n",
    "#Se juntan los miembros de las particiones del subconjunto con el primer valor\n",
    "        for i, subSet in enumerate(subPart):\n",
    "            yield subPart[:i] + [[first] + subSet] + subPart[i+1:]\n",
    "\n",
    "#Conjunto {Primer valor, {particion subconjunto}}\n",
    "        yield [[first]] + subPart\n",
    "\n",
    "#Funcion que itera en las particiones y devuelve un generador con las que tienen k particiones\n",
    "def partitionGenK(M,k):\n",
    "    for part in partitionGen(M):\n",
    "        if len(part)==k:\n",
    "            yield part"
   ]
  },
  {
   "cell_type": "code",
   "execution_count": null,
   "metadata": {},
   "outputs": [],
   "source": [
    "#Funcion que devuelve el conjunto de k clusters de mínima heterogeneidad\n",
    "def minHetCluster(D, k):\n",
    "    \n",
    "#Cogemos todos los posibles conjuntos de k clusters\n",
    "    comb = [part for part in partitionGenK(list(range(len(D))), k)]\n",
    "    \n",
    "    het = []\n",
    "#Para cada conjunto de clusters calculamos la heterogeneidad\n",
    "    for part in comb:\n",
    "        partHet = 0\n",
    "#Sumamos la heterogeneidad de cada cluster\n",
    "        for clust in part:\n",
    "            meanVector = np.mean(D[clust], 0)\n",
    "            partHet += np.sum(np.square(D[clust]-meanVector))\n",
    "\n",
    "        het.append(partHet)\n",
    "        \n",
    "    minHet = np.amin(het)\n",
    "#Devolvemos los índices del cluster con menor heterogeneidad\n",
    "    return [comb[np.where(het == minHet)[0][0]], minHet]"
   ]
  }
 ],
 "metadata": {
  "kernelspec": {
   "display_name": "Python 3",
   "language": "python",
   "name": "python3"
  },
  "language_info": {
   "codemirror_mode": {
    "name": "ipython",
    "version": 3
   },
   "file_extension": ".py",
   "mimetype": "text/x-python",
   "name": "python",
   "nbconvert_exporter": "python",
   "pygments_lexer": "ipython3",
   "version": "3.7.4"
  }
 },
 "nbformat": 4,
 "nbformat_minor": 2
}
