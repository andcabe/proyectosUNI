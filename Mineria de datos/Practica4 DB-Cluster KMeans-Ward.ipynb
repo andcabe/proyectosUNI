{
 "cells": [
  {
   "cell_type": "markdown",
   "metadata": {},
   "source": [
    "# PRÁCTICA 4- ANDRÉS CABERO"
   ]
  },
  {
   "cell_type": "markdown",
   "metadata": {},
   "source": [
    "## DB-CLUSTER"
   ]
  },
  {
   "cell_type": "code",
   "execution_count": 1,
   "metadata": {},
   "outputs": [],
   "source": [
    "import numpy as np\n",
    "from scipy.cluster.hierarchy import dendrogram, linkage\n",
    "from matplotlib import pyplot as plt\n",
    "from sklearn.preprocessing import StandardScaler"
   ]
  },
  {
   "cell_type": "code",
   "execution_count": 2,
   "metadata": {},
   "outputs": [],
   "source": [
    "D = np.asarray([[0, 1, 3, 4, 7],\n",
    "               [0, 0, 4, 4, 8],\n",
    "               [0, 0, 0, 2, 8],\n",
    "               [0, 0, 0, 0, 7],\n",
    "               [0, 0, 0, 0, 0]], dtype=\"float\")"
   ]
  },
  {
   "cell_type": "code",
   "execution_count": 3,
   "metadata": {},
   "outputs": [],
   "source": [
    "#GENERADOR\n",
    "#Función recursiva que devuelve un generador con todas las particiones unicas posibles de una lista\n",
    "def partitionGen(M):\n",
    "\n",
    "    partSet=[]\n",
    "\n",
    "#Caso de tener un conjunto compuesto con un único valor\n",
    "    if len(M)==1:\n",
    "        yield [M]\n",
    "        return\n",
    "    \n",
    "#Se guarda el primer valor del conjunto\n",
    "    first = M[0]\n",
    "\n",
    "    for subPart in partitionGen(M[1:]):\n",
    "\n",
    "#Se juntan los miembros de las particiones del subconjunto con el primer valor\n",
    "        for i, subSet in enumerate(subPart):\n",
    "            yield subPart[:i] + [[first] + subSet] + subPart[i+1:]\n",
    "\n",
    "#Conjunto {Primer valor, {particion subconjunto}}\n",
    "        yield [[first]] + subPart\n",
    "\n",
    "#Funcion que itera en las particiones y devuelve un generador con las que tienen k particiones\n",
    "def partitionGenK(M,k):\n",
    "    for part in partitionGen(M):\n",
    "        if len(part)==k:\n",
    "            yield part"
   ]
  },
  {
   "cell_type": "code",
   "execution_count": 4,
   "metadata": {},
   "outputs": [],
   "source": [
    "'''Función que aplica el algoritmo db-cluster a una matriz de distancias'''\n",
    "def dbCluster(M):\n",
    "    \n",
    "#Funcion anidada que calcula la variabilidad de un cluster\n",
    "    def varClust(D, clust):\n",
    "        return (1/(2*np.square(len(clust)))) * np.sum(np.square([D[i][j]\n",
    "                                                                for i in clust \n",
    "                                                                for j in clust if i<j]))\n",
    "    \n",
    "#Función anidada que calcula la variavilidad entre dos clusters (PRE: conocer la variabilidad de cada cluster)\n",
    "    def varC1C2(clust1, clust2, var1, var2):\n",
    "        return len(clust1) * var1 + len(clust2) * var2\n",
    "        \n",
    "#Lista con los clusters según se crean\n",
    "    clusts = [list(range(len(M)))]\n",
    "    \n",
    "#Lista con los clusters creados y sus posición\n",
    "    clustsIdx = [0]\n",
    "    \n",
    "#Matriz linkage resultado de la función\n",
    "    linkIdx = {}\n",
    "    startNew=2*len(M)-2\n",
    "    \n",
    "    link = []        \n",
    "    linkage = []\n",
    "    \n",
    "#Separamos el cluster el número de veces necesarias hasta que este separado por completo\n",
    "    for _ in range(len(M)-1):\n",
    "        bestVar = np.inf\n",
    "        bestPar = [[1],[1]]\n",
    "        bestIdx = -1\n",
    "        c=[]\n",
    "        \n",
    "    #Comprobamos para cada cluster divisible existente actualmente\n",
    "        for idx in clustsIdx:\n",
    "            \n",
    "            c = clusts[idx]\n",
    "            \n",
    "            if len(c)<=1:\n",
    "                continue\n",
    "\n",
    "        #Para cada posible división en otros dos clusters escogemos la división con menor variabilidad entre clusters\n",
    "            for p in partitionGenK(c, 2):\n",
    "                varP1P2 = varC1C2(p[0], p[1], varClust(D,p[0]), varClust(D,p[1]))\n",
    "                if varP1P2 < bestVar:\n",
    "                    bestVar = varP1P2\n",
    "                    bestPar = p\n",
    "                    bestIdx = idx\n",
    "                    \n",
    "    #Guardamos el índice de la matriz de linkage del clúster elegido\n",
    "        linkIdx[str(bestPar[0]+ bestPar[1])] = startNew\n",
    "        startNew-=1\n",
    "        \n",
    "    #Guardamos el resultado con los clusters momentáneamente\n",
    "        link.append([bestPar[0], bestPar[1], varClust(D,clusts[bestIdx]), len(clusts[bestIdx])])\n",
    "\n",
    "    #Cambiamos valores para la siguiente iteración\n",
    "        for c in bestPar:\n",
    "            clustsIdx.append(len(clusts))\n",
    "            clusts.append(c)\n",
    "            \n",
    "        \n",
    "        clustsIdx.remove(bestIdx)\n",
    "\n",
    "    print(link)\n",
    "#Cambiamos los clusters por sus índices de la matriz de linkage, y ordenamos de menor a mayor\n",
    "    for row in reversed(link):\n",
    "        if len(row[0])==1:\n",
    "            row[0]=row[0][0]\n",
    "        else:\n",
    "            row[0]=linkIdx[str(row[0])]\n",
    "            startNew+=1\n",
    "            \n",
    "        if len(row[1])==1:\n",
    "            row[1]=row[1][0]\n",
    "        else:\n",
    "            row[1]=linkIdx[str(row[1])]\n",
    "            startNew+=1\n",
    "            \n",
    "        linkage.append(row)  \n",
    "        \n",
    "    return linkage"
   ]
  },
  {
   "cell_type": "code",
   "execution_count": 5,
   "metadata": {
    "scrolled": false
   },
   "outputs": [
    {
     "name": "stdout",
     "output_type": "stream",
     "text": [
      "[[[0, 1, 2, 3], [4], 5.76, 5], [[0, 1], [2, 3], 1.9375, 4], [[0], [1], 0.125, 2], [[2], [3], 0.5, 2]]\n",
      "Linkage: [[2, 3, 0.5, 2], [0, 1, 0.125, 2], [6, 5, 1.9375, 4], [7, 4, 5.76, 5]]\n"
     ]
    },
    {
     "data": {
      "image/png": "[encoded data removed]",
      "text/plain": [
       "<Figure size 720x720 with 1 Axes>"
      ]
     },
     "metadata": {
      "needs_background": "light"
     },
     "output_type": "display_data"
    }
   ],
   "source": [
    "Z=dbCluster(D)\n",
    "plt.figure(figsize=(10,10))\n",
    "plt.title(\"Dendograma DB-Cluster\")\n",
    "dendrogram(Z)\n",
    "print(\"Linkage:\", Z)\n",
    "plt.show()"
   ]
  },
  {
   "cell_type": "markdown",
   "metadata": {},
   "source": [
    "## KMeans - Ward"
   ]
  },
  {
   "cell_type": "code",
   "execution_count": 6,
   "metadata": {},
   "outputs": [],
   "source": [
    "import numpy as np\n",
    "from matplotlib import pyplot as plt\n",
    "from scipy.cluster.hierarchy import dendrogram, linkage\n",
    "from scipy.stats import mode\n",
    "from sklearn.preprocessing import StandardScaler\n",
    "from sklearn.datasets import load_iris as iris\n",
    "from sklearn.cluster import KMeans\n",
    "from sklearn.cluster import AgglomerativeClustering\n",
    "from sklearn.metrics import accuracy_score"
   ]
  },
  {
   "cell_type": "code",
   "execution_count": 7,
   "metadata": {},
   "outputs": [],
   "source": [
    "'''Función que devuelve la tasa de aciertos de la predicción hecha por KMeans + Ward a los baricentros'''\n",
    "def wardKmeans(D, k=6, l=9, random=None):\n",
    "    \n",
    "    #Cargamos datos y predecimos los clusters con KMeans\n",
    "    X = StandardScaler().fit_transform(D.data)\n",
    "    Y = D.target\n",
    "    kmeans = KMeans(n_clusters=k+l, random_state=random)\n",
    "    clusts = kmeans.fit_predict(X)\n",
    "\n",
    "    #Calculamos los k+l baricentros de los clusters predichos por KMeans\n",
    "    bar = []\n",
    "    for i in range(k+l):\n",
    "        bar.append(np.mean(X[np.argwhere(clusts==i)], 0)[0])\n",
    "        \n",
    "    #Aplicamos ward para k clusters sobre los k+l baricentros\n",
    "    ac = AgglomerativeClustering(n_clusters=k, linkage=\"ward\", affinity=\"euclidean\")\n",
    "    ward = ac.fit_predict(bar)\n",
    "\n",
    "    #Cambiamos los k+l clusters de KMeans a los k aglomerados por Ward\n",
    "    for i in range(k):  \n",
    "        c = np.where(ward==i)[0]\n",
    "        for j in c:\n",
    "            clusts = np.where(c es custs==j, i+k+l, clusts)\n",
    "    clusts -= k+l\n",
    "    \n",
    "    #Calculamos la moda de los k clusters aglomerados\n",
    "    moda = np.zeros(k, dtype='int')\n",
    "    for i in range(k):\n",
    "        moda[i] = mode(Y[np.argwhere(clusts==i)])[0].astype(int)\n",
    "    \n",
    "    pred = moda[clusts]\n",
    "\n",
    "    #Calculamos la tasa de aciertos de la clasificación\n",
    "    score = accuracy_score(pred, Y)\n",
    "    \n",
    "    return score"
   ]
  },
  {
   "cell_type": "code",
   "execution_count": 8,
   "metadata": {},
   "outputs": [
    {
     "name": "stdout",
     "output_type": "stream",
     "text": [
      "Tasa de error KMeans-Ward para Iris:  0.8066666666666666\n"
     ]
    }
   ],
   "source": [
    "print(\"Tasa de error KMeans-Ward para Iris: \", wardKmeans(iris(), random=0))"
   ]
  }
 ],
 "metadata": {
  "kernelspec": {
   "display_name": "Python 3",
   "language": "python",
   "name": "python3"
  },
  "language_info": {
   "codemirror_mode": {
    "name": "ipython",
    "version": 3
   },
   "file_extension": ".py",
   "mimetype": "text/x-python",
   "name": "python",
   "nbconvert_exporter": "python",
   "pygments_lexer": "ipython3",
   "version": "3.7.4"
  }
 },
 "nbformat": 4,
 "nbformat_minor": 2
}
