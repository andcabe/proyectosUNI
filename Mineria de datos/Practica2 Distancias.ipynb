{
 "cells": [
  {
   "cell_type": "markdown",
   "metadata": {},
   "source": [
    "# PRACTICA 2 - ANDRES CABERO"
   ]
  },
  {
   "cell_type": "markdown",
   "metadata": {},
   "source": [
    "    DISTANCIAS"
   ]
  },
  {
   "cell_type": "code",
   "execution_count": 1,
   "metadata": {},
   "outputs": [],
   "source": [
    "import numpy as np\n",
    "from scipy.spatial.distance import euclidean\n",
    "from scipy.spatial.distance import minkowski\n",
    "from scipy.spatial.distance import mahalanobis\n",
    "from scipy.spatial.distance import hamming"
   ]
  },
  {
   "cell_type": "code",
   "execution_count": 2,
   "metadata": {},
   "outputs": [
    {
     "name": "stdout",
     "output_type": "stream",
     "text": [
      "[[1. 0. 0. 0.]\n",
      " [0. 1. 0. 0.]\n",
      " [0. 0. 1. 0.]\n",
      " [0. 0. 0. 1.]]\n"
     ]
    }
   ],
   "source": [
    "#Iniciamos X, Y, la matriz de covarianzas y su inversa\n",
    "X = np.asarray([2.1, 3.1, 3.4, 1.9])\n",
    "Y = np.asarray([1.2, 2.0, 1.7, 3.6])\n",
    "V = np.asarray([[2, 0, 0, 0], [0, 4, 0, 0], [0, 0, 4, 0], [0, 0, 0, 2]])\n",
    "IV = np.linalg.inv(V)\n",
    "\n",
    "#Muestra la matriz identidad si es correcto.\n",
    "print(V*IV)"
   ]
  },
  {
   "cell_type": "code",
   "execution_count": 3,
   "metadata": {},
   "outputs": [],
   "source": [
    "#Calculamos las distancias utilizando las funciones de scipy\n",
    "euc = euclidean(X, Y)\n",
    "minkq1 = minkowski(X, Y, 1)\n",
    "minkq3 = minkowski(X, Y, 3)\n",
    "mahal = mahalanobis(X, Y, IV)"
   ]
  },
  {
   "cell_type": "code",
   "execution_count": 4,
   "metadata": {},
   "outputs": [
    {
     "name": "stdout",
     "output_type": "stream",
     "text": [
      "Distancia Euclidea:\t\t\t 2.7928480087537886 \n",
      "Distancia Minkowski q=1(Manhatan):\t 5.4 \n",
      "Distancia Minkowski q=3:\t\t 2.282155548417709 \n",
      "Distancia Mahalanobis:\t\t\t 1.6955824957813173\n"
     ]
    }
   ],
   "source": [
    "print(\"Distancia Euclidea:\\t\\t\\t\", euc, \n",
    "      \"\\nDistancia Minkowski q=1(Manhatan):\\t\", minkq1,\n",
    "     \"\\nDistancia Minkowski q=3:\\t\\t\", minkq3,\n",
    "     \"\\nDistancia Mahalanobis:\\t\\t\\t\", mahal)"
   ]
  },
  {
   "cell_type": "markdown",
   "metadata": {},
   "source": [
    "    Similaridad"
   ]
  },
  {
   "cell_type": "code",
   "execution_count": 5,
   "metadata": {},
   "outputs": [],
   "source": [
    "#Inicializamos las instancias X e Y\n",
    "X = np.asarray([1,0,0,0,1,1,0,1,0,0])\n",
    "Y = np.asarray([0,0,1,0,1,1,1,1,0,1])"
   ]
  },
  {
   "cell_type": "code",
   "execution_count": 6,
   "metadata": {},
   "outputs": [],
   "source": [
    "#Calculamos la tabla de coincidencias\n",
    "coinc = np.zeros([2,2])\n",
    "for eX, eY in zip(X, Y):\n",
    "     coinc[eX][eY]+=1"
   ]
  },
  {
   "cell_type": "code",
   "execution_count": 7,
   "metadata": {},
   "outputs": [],
   "source": [
    "#Calculamos las similaridades\n",
    "sokal = (coinc[0][0]+coinc[1][1])/len(X)\n",
    "jaccard = coinc[1][1]/(coinc[1][1]+coinc[0][1]+coinc[1][0])\n",
    "hamm = (coinc[0][1]+coinc[1][0])/len(X) #Ó hamming(X, Y)"
   ]
  },
  {
   "cell_type": "code",
   "execution_count": 8,
   "metadata": {},
   "outputs": [
    {
     "name": "stdout",
     "output_type": "stream",
     "text": [
      "Similaridad Sokal-Michel:\t\t 0.6 \n",
      "Similaridad Jaccard:\t\t\t 0.42857142857142855 \n",
      "Distancia(Simil) HAMMING:\t\t 0.4\n"
     ]
    }
   ],
   "source": [
    "print(\"Similaridad Sokal-Michel:\\t\\t\", sokal, \n",
    "      \"\\nSimilaridad Jaccard:\\t\\t\\t\", jaccard,\n",
    "     \"\\nDistancia(Simil) HAMMING:\\t\\t\", hamm)"
   ]
  },
  {
   "cell_type": "markdown",
   "metadata": {},
   "source": [
    "    Similaridad casos 2 y 7"
   ]
  },
  {
   "cell_type": "code",
   "execution_count": 9,
   "metadata": {},
   "outputs": [],
   "source": [
    "#Introducimos los datos\n",
    "D = np.asarray([[52.5, 3.8, 1, 1, 1, 1],\n",
    "                [50.2, 2.9, 0, 1, 1, 1],\n",
    "                [53.4, 4.2, 0, 1, 3, 2],\n",
    "                [49.8, 2.8, 0, 0, 1, 1],\n",
    "                [53.4, 3.9, 1, 1, 2, 2],\n",
    "                [54.1, 4.6, 0, 1, 1, 1],\n",
    "                [52.3, 3.7, 1, 1, 1, 2],\n",
    "                [53.8, 3.9, 0, 1, 4, 1],\n",
    "                [50.7, 2.6, 1, 0, 2, 1],\n",
    "                [51.6, 3.5, 1, 1, 1, 3]])\n",
    "cont = [0, 1]\n",
    "bina = [2, 3]\n",
    "cualit = [4, 5]\n",
    "selec= [2-1, 7-1]"
   ]
  },
  {
   "cell_type": "code",
   "execution_count": 10,
   "metadata": {},
   "outputs": [],
   "source": [
    "'''Fución que calcula el rango (max-min)de un atributo concreto de unos datos'''\n",
    "def rango(d, c):\n",
    "    return np.array([max(d[:,c]-min(d[:,c]))])\n"
   ]
  },
  {
   "cell_type": "code",
   "execution_count": 11,
   "metadata": {},
   "outputs": [],
   "source": [
    "'''Fución que calcula las tablas de coincidencias entre cada par de instancias\n",
    "de los atributos binarios indicados.'''\n",
    "def coincidencesBin(d, cs):\n",
    "#Se crea una matriz que contiene las coincidencias (i,j)\n",
    "    coincBin=[[] for _ in  range(d.shape[0])]\n",
    "    for i in range(d.shape[0]):\n",
    "        for j in range(d.shape[0]):\n",
    "            coincij = np.zeros([2,2])\n",
    "#Calculamos la tabla de coincidencias para (i,j)\n",
    "            for eX, eY in [d[[i,j],e] for e in cs]:\n",
    "                coincij[int(eX)][int(eY)]+=1\n",
    "#Añadimos a la matriz de coincidencias la tabla de coincidencias para (i, j)\n",
    "            coincBin[i].append(np.asarray(coincij))\n",
    "    return np.asarray(coincBin)\n"
   ]
  },
  {
   "cell_type": "code",
   "execution_count": 12,
   "metadata": {},
   "outputs": [],
   "source": [
    "'''Función que calcula las tablas de coincidencias entre cada par de instancias\n",
    "de un atributo indicado.'''\n",
    "def coincidences(d, c):\n",
    "#Se crea una matriz que contiene las coincidencias (i,j)\n",
    "    coinc=[[] for _ in  range(d.shape[0])]\n",
    "    n={k: v for v, k in enumerate(np.unique(d[:,c]))} \n",
    "    for i in range(d.shape[0]):\n",
    "        for j in range(d.shape[0]):\n",
    "            coincij = np.zeros([len(n),len(n)])\n",
    "#Calculamos la tabla de coincidencias para (i,j)\n",
    "            for eX, eY in [d[[i,j],c]]:              \n",
    "                coincij[int(n[eX])][int(n[eY])]+=1\n",
    "#Añadimos a la matriz de coincidencias la tabla de coincidencias para (i, j)\n",
    "            coinc[i].append(np.asarray(coincij))\n",
    "    return np.asarray(coinc)"
   ]
  },
  {
   "cell_type": "code",
   "execution_count": 13,
   "metadata": {},
   "outputs": [],
   "source": [
    "'''Función que calcula la similaridad ente dos instancias de un conjunto de datos\n",
    "según el tipo de atributos'''\n",
    "def simil(data, r1, r2, cont, bina, cualit):\n",
    "    \n",
    "    a, d, alpha = 0, 0, 0\n",
    "#Cálculo del numero de coincidencias de los atributos binarios de las filas ij\n",
    "    if(bina):\n",
    "        aD= coincidencesBin(data,bina)[r1][r2]\n",
    "        a, d = aD[0][0], aD[1][1]\n",
    "\n",
    "#Cálculo del numero de coincidencias en los atributos cualitativos de las filas ij\n",
    "    if(cualit):\n",
    "        for i in range(len(cualit)):\n",
    "            alpha+=np.sum(coincidences(data, cualit[i])[r1][r2].diagonal())\n",
    "        \n",
    "#Calculo del sumatorio de la similaridad ij\n",
    "    s=0\n",
    "    for i in range(len(cont)):\n",
    "        s+=1-np.abs(data[r1][cont[i]]-data[r2][cont[i]])/rango(data,cont[i])\n",
    "        \n",
    "#Calculo del numerador de similaridad ij\n",
    "    s+=d+alpha\n",
    "    \n",
    "#Numerador entre denominador, calculo de la similaridad ij\n",
    "    return float(s/(len(cont)+(len(bina)-a+len(cualit))))\n",
    "    "
   ]
  },
  {
   "cell_type": "code",
   "execution_count": 14,
   "metadata": {
    "scrolled": false
   },
   "outputs": [
    {
     "name": "stdout",
     "output_type": "stream",
     "text": [
      "La simiralidad(2,7) es: 0.518604651162791\n"
     ]
    }
   ],
   "source": [
    "print(\"La simiralidad(2,7) es:\",\n",
    "     simil(D, 2-1, 7-1, cont, bina, cualit))"
   ]
  }
 ],
 "metadata": {
  "kernelspec": {
   "display_name": "Python 3",
   "language": "python",
   "name": "python3"
  },
  "language_info": {
   "codemirror_mode": {
    "name": "ipython",
    "version": 3
   },
   "file_extension": ".py",
   "mimetype": "text/x-python",
   "name": "python",
   "nbconvert_exporter": "python",
   "pygments_lexer": "ipython3",
   "version": "3.7.4"
  }
 },
 "nbformat": 4,
 "nbformat_minor": 2
}
